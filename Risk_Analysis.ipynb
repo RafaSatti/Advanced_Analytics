{
 "cells": [
  {
   "cell_type": "markdown",
   "id": "1587804e",
   "metadata": {},
   "source": [
    "# Practical Activity 1.1.9: Risk Analysis methods"
   ]
  },
  {
   "cell_type": "markdown",
   "id": "a584c213",
   "metadata": {},
   "source": [
    "Your client, age 45, wants to retire when his wealth exceeds £500,000. His current salary is £35,000, with a cost of living increase of 6% per year. He saves 6% of his annual salary at an interest rate of 2.0% and can expect a promotion every year, with a salary increase of 6%. Will your client be able to retire at age 65? To prepare your findings for presentation, you now need to summarise your results and visualise the change in wealth over time for the client. "
   ]
  },
  {
   "cell_type": "markdown",
   "id": "a6a333d6",
   "metadata": {},
   "source": [
    "Create and test a model that will allow you to calculate how many years until the client's preferred level of savings is reached. Will 20 years be enough time? \n",
    "\n"
   ]
  },
  {
   "cell_type": "markdown",
   "id": "bffd6854",
   "metadata": {},
   "source": [
    "## 1. Prepare workstation"
   ]
  },
  {
   "cell_type": "code",
   "execution_count": 2,
   "id": "f65627a3",
   "metadata": {},
   "outputs": [],
   "source": [
    "# Import required packages and libraries\n",
    "from dataclasses import dataclass\n",
    "import pandas as pd\n",
    "import random\n",
    "%matplotlib inline\n",
    "from sensitivity import SensitivityAnalyzer"
   ]
  },
  {
   "cell_type": "markdown",
   "id": "28bc5bac",
   "metadata": {},
   "source": [
    "## 2. Specify inputs"
   ]
  },
  {
   "cell_type": "code",
   "execution_count": 32,
   "id": "d4d9b39d",
   "metadata": {},
   "outputs": [
    {
     "data": {
      "text/plain": [
       "ModelInputs(starting_salary=35000, cost_of_living_inc=0.06, annual_savings=0.06, interest_rate=0.02, promo=0.06)"
      ]
     },
     "execution_count": 32,
     "metadata": {},
     "output_type": "execute_result"
    }
   ],
   "source": [
    "# Specify inputs\n",
    "@dataclass\n",
    "\n",
    "class ModelInputs:\n",
    "    starting_salary: int = 35000\n",
    "    cost_of_living_inc: float = 0.06\n",
    "    annual_savings: float = 0.06\n",
    "    interest_rate: float = 0.02\n",
    "    promo: float = 0.06\n",
    "    desired_cash = 500000\n",
    "        \n",
    "# Create instance of ModelInputs class\n",
    "model_data = ModelInputs()\n",
    "\n",
    "# Return output\n",
    "model_data"
   ]
  },
  {
   "cell_type": "markdown",
   "id": "123806b7",
   "metadata": {},
   "source": [
    "## 3. Calculate wages"
   ]
  },
  {
   "cell_type": "code",
   "execution_count": 11,
   "id": "74903320",
   "metadata": {},
   "outputs": [],
   "source": [
    "# Define yearly wage and calculate wage over time\n",
    "def wage_year(data: ModelInputs, year):\n",
    "    salary_t = data.starting_salary * (1 + data.cost_of_living_inc)**year * (1 + data.promo)**year\n",
    "    \n",
    "    return salary_t"
   ]
  },
  {
   "cell_type": "code",
   "execution_count": 13,
   "id": "889f47a1",
   "metadata": {},
   "outputs": [
    {
     "name": "stdout",
     "output_type": "stream",
     "text": [
      "The wage at year 1 is 39,326\n",
      "The wage at year 2 is 44,187\n",
      "The wage at year 3 is 49,648\n",
      "The wage at year 4 is 55,785\n"
     ]
    }
   ],
   "source": [
    "# View wage changes over the first 4 years using for loop\n",
    "for i in range(4):\n",
    "    year = i + 1\n",
    "    salary = wage_year(model_data, year)\n",
    "    print(f'The wage at year {year} is {salary:,.0f}')   "
   ]
  },
  {
   "cell_type": "markdown",
   "id": "6055af04",
   "metadata": {},
   "source": [
    "## 4. Calculate wealth (savings)"
   ]
  },
  {
   "cell_type": "code",
   "execution_count": 27,
   "id": "593eef6f",
   "metadata": {},
   "outputs": [],
   "source": [
    "# First calculate cash_saved by multiplying starting salary and savings rate\n",
    "\n",
    "def cash_saved_during_year(data: ModelInputs, year):\n",
    "    salary = wage_year(model_data,year)\n",
    "    cash_saved = (salary * data.annual_savings)\n",
    "    return cash_saved"
   ]
  },
  {
   "cell_type": "code",
   "execution_count": 30,
   "id": "2100e16d",
   "metadata": {},
   "outputs": [],
   "source": [
    "def wealth_year(data: ModelInputs, year, prior_wealth):\n",
    "    cash_saved = cash_saved_during_year(data, year)\n",
    "    wealth = prior_wealth * (1 + data.interest_rate) + cash_saved\n",
    "    return wealth"
   ]
  },
  {
   "cell_type": "code",
   "execution_count": 31,
   "id": "bec3e8d1",
   "metadata": {},
   "outputs": [
    {
     "name": "stdout",
     "output_type": "stream",
     "text": [
      "Wealth saved for the year 1 is 2,360\n",
      "Wealth saved for the year 2 is 2,651\n",
      "Wealth saved for the year 3 is 2,979\n",
      "Wealth saved for the year 4 is 3,347\n"
     ]
    }
   ],
   "source": [
    "prior_wealth = 0\n",
    "for i in range(4):\n",
    "    year = i + 1\n",
    "    wealth = wealth_year(model_data, year, prior_wealth)\n",
    "    print(f'Wealth saved for the year {year} is {wealth:,.0f}')"
   ]
  },
  {
   "cell_type": "markdown",
   "id": "bb91fa5e",
   "metadata": {},
   "source": [
    "## 5. Calculate years to retirement"
   ]
  },
  {
   "cell_type": "code",
   "execution_count": 40,
   "id": "0e3d586a",
   "metadata": {
    "scrolled": false
   },
   "outputs": [
    {
     "name": "stdout",
     "output_type": "stream",
     "text": [
      "Wealths over time:\n",
      "The accumulated wealth at year 1 is £2,360.\n",
      "The accumulated wealth at year 2 is £5,058.\n",
      "The accumulated wealth at year 3 is £8,138.\n",
      "The accumulated wealth at year 4 is £11,648.\n",
      "The accumulated wealth at year 5 is £15,642.\n",
      "The accumulated wealth at year 6 is £20,180.\n",
      "The accumulated wealth at year 7 is £25,332.\n",
      "The accumulated wealth at year 8 is £31,173.\n",
      "The accumulated wealth at year 9 is £37,790.\n",
      "The accumulated wealth at year 10 is £45,281.\n",
      "The accumulated wealth at year 11 is £53,754.\n",
      "The accumulated wealth at year 12 is £63,332.\n",
      "The accumulated wealth at year 13 is £74,153.\n",
      "The accumulated wealth at year 14 is £86,370.\n",
      "The accumulated wealth at year 15 is £100,159.\n",
      "The accumulated wealth at year 16 is £115,714.\n",
      "The accumulated wealth at year 17 is £133,256.\n",
      "The accumulated wealth at year 18 is £153,030.\n",
      "The accumulated wealth at year 19 is £175,314.\n",
      "The accumulated wealth at year 20 is £200,421.\n",
      "The accumulated wealth at year 21 is £228,699.\n",
      "The accumulated wealth at year 22 is £260,542.\n",
      "The accumulated wealth at year 23 is £296,393.\n",
      "The accumulated wealth at year 24 is £336,748.\n",
      "The accumulated wealth at year 25 is £382,166.\n",
      "The accumulated wealth at year 26 is £433,272.\n",
      "The accumulated wealth at year 27 is £490,773.\n",
      "The accumulated wealth at year 28 is £555,460.\n",
      "\n",
      "Retirement:\n",
      "It will take 28 years to retire.\n"
     ]
    }
   ],
   "source": [
    "def years_to_retirement(data: ModelInputs, print_output = True):\n",
    "    prior_wealth = 0\n",
    "    wealth = 0\n",
    "    year = 0\n",
    "    \n",
    "    if print_output:\n",
    "        print('Wealths over time:')\n",
    "    while wealth < data.desired_cash:\n",
    "        year = year + 1\n",
    "        wealth = wealth_year(model_data, year, prior_wealth)\n",
    "        if print_output:\n",
    "            print(f'The accumulated wealth at year {year} is £{wealth:,.0f}.')\n",
    "            # Set next year's prior wealth to this year's wealth.\n",
    "            prior_wealth = wealth\n",
    "            \n",
    "    # Now we have run the while loop, the wealth must be >= desired_cash \n",
    "    # (whatever last year was set is the years to retirement), which we can print.\n",
    "    if print_output:\n",
    "            # \\n makes a blank line in the output.\n",
    "        print(f'\\nRetirement:\\nIt will take {year} years to retire.')  \n",
    "        return year\n",
    "\n",
    "years = years_to_retirement(model_data)"
   ]
  },
  {
   "cell_type": "code",
   "execution_count": 41,
   "id": "95bf9bb2",
   "metadata": {},
   "outputs": [
    {
     "data": {
      "text/html": [
       "<div>\n",
       "<style scoped>\n",
       "    .dataframe tbody tr th:only-of-type {\n",
       "        vertical-align: middle;\n",
       "    }\n",
       "\n",
       "    .dataframe tbody tr th {\n",
       "        vertical-align: top;\n",
       "    }\n",
       "\n",
       "    .dataframe thead th {\n",
       "        text-align: right;\n",
       "    }\n",
       "</style>\n",
       "<table border=\"1\" class=\"dataframe\">\n",
       "  <thead>\n",
       "    <tr style=\"text-align: right;\">\n",
       "      <th></th>\n",
       "      <th>Year</th>\n",
       "      <th>Wealth</th>\n",
       "    </tr>\n",
       "  </thead>\n",
       "  <tbody>\n",
       "    <tr>\n",
       "      <th>0</th>\n",
       "      <td>1</td>\n",
       "      <td>2359.560000</td>\n",
       "    </tr>\n",
       "    <tr>\n",
       "      <th>1</th>\n",
       "      <td>2</td>\n",
       "      <td>5057.952816</td>\n",
       "    </tr>\n",
       "    <tr>\n",
       "      <th>2</th>\n",
       "      <td>3</td>\n",
       "      <td>8138.002008</td>\n",
       "    </tr>\n",
       "    <tr>\n",
       "      <th>3</th>\n",
       "      <td>4</td>\n",
       "      <td>11647.843005</td>\n",
       "    </tr>\n",
       "    <tr>\n",
       "      <th>4</th>\n",
       "      <td>5</td>\n",
       "      <td>15641.580028</td>\n",
       "    </tr>\n",
       "  </tbody>\n",
       "</table>\n",
       "</div>"
      ],
      "text/plain": [
       "   Year        Wealth\n",
       "0     1   2359.560000\n",
       "1     2   5057.952816\n",
       "2     3   8138.002008\n",
       "3     4  11647.843005\n",
       "4     5  15641.580028"
      ]
     },
     "execution_count": 41,
     "metadata": {},
     "output_type": "execute_result"
    }
   ],
   "source": [
    "def years_to_retirement(data):\n",
    "    # Start with no cash saved.\n",
    "    prior_wealth = 0  \n",
    "    wealth = 0\n",
    "    # The ‘year’ becomes ‘1’ on the first loop.\n",
    "    year = 0\n",
    "    \n",
    "    # Set up output to be displayed as a DataFrame as tuples.\n",
    "    df_data_tups = []\n",
    "    while wealth < data.desired_cash:\n",
    "        year = year + 1\n",
    "        wealth = wealth_year(data, year, prior_wealth)\n",
    "        \n",
    "        # Set next year's prior wealth to this year's wealth.\n",
    "        prior_wealth = wealth  \n",
    "        \n",
    "        # Save the results in a tuple for later building the DataFrame.\n",
    "        df_data_tups.append((year, wealth))\n",
    "       \n",
    "    # Now we have run the while loop, so wealth must be >= desired_cash. \n",
    "    # Create the DataFrame.\n",
    "    df = pd.DataFrame(df_data_tups, columns=['Year', 'Wealth'])\n",
    "    \n",
    "    return df\n",
    "\n",
    "# Save the function results into the DataFrame.\n",
    "results_df = years_to_retirement(model_data)\n",
    "\n",
    "# View the DataFrame.\n",
    "results_df.head()"
   ]
  },
  {
   "cell_type": "code",
   "execution_count": 43,
   "id": "6f572e82",
   "metadata": {},
   "outputs": [
    {
     "data": {
      "text/plain": [
       "<Axes: xlabel='Year'>"
      ]
     },
     "execution_count": 43,
     "metadata": {},
     "output_type": "execute_result"
    },
    {
     "data": {
      "image/png": "[encoded data removed]",
      "text/plain": [
       "<Figure size 640x480 with 1 Axes>"
      ]
     },
     "metadata": {},
     "output_type": "display_data"
    }
   ],
   "source": [
    "results_df.plot('Year', 'Wealth')"
   ]
  },
  {
   "cell_type": "code",
   "execution_count": null,
   "id": "bcf864fa",
   "metadata": {},
   "outputs": [],
   "source": []
  }
 ],
 "metadata": {
  "kernelspec": {
   "display_name": "Python 3 (ipykernel)",
   "language": "python",
   "name": "python3"
  },
  "language_info": {
   "codemirror_mode": {
    "name": "ipython",
    "version": 3
   },
   "file_extension": ".py",
   "mimetype": "text/x-python",
   "name": "python",
   "nbconvert_exporter": "python",
   "pygments_lexer": "ipython3",
   "version": "3.10.9"
  }
 },
 "nbformat": 4,
 "nbformat_minor": 5
}
