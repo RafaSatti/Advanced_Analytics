{
 "cells": [
  {
   "cell_type": "markdown",
   "id": "8d88e21f",
   "metadata": {},
   "source": [
    "## Logistic Regression: Telecom National Case-Study"
   ]
  },
  {
   "cell_type": "markdown",
   "id": "f6161f7d",
   "metadata": {},
   "source": [
    "Predict the likelihood of a new customer 'churning' or leaving a specific service provider."
   ]
  },
  {
   "cell_type": "code",
   "execution_count": 1,
   "id": "02f05814",
   "metadata": {},
   "outputs": [],
   "source": [
    "# Import required libraries\n",
    "import pandas as pd\n",
    "import numpy as np"
   ]
  },
  {
   "cell_type": "markdown",
   "id": "08b05abe",
   "metadata": {},
   "source": [
    "## 1.0 Checking for Binary Logistic Regression on the data"
   ]
  },
  {
   "cell_type": "code",
   "execution_count": 18,
   "id": "721e6398",
   "metadata": {},
   "outputs": [
    {
     "name": "stdout",
     "output_type": "stream",
     "text": [
      "<class 'pandas.core.frame.DataFrame'>\n",
      "RangeIndex: 41188 entries, 0 to 41187\n",
      "Data columns (total 13 columns):\n",
      " #   Column         Non-Null Count  Dtype  \n",
      "---  ------         --------------  -----  \n",
      " 0   Age            41188 non-null  int64  \n",
      " 1   Edu            41188 non-null  object \n",
      " 2   Comm           41188 non-null  object \n",
      " 3   Duration       41188 non-null  int64  \n",
      " 4   Campaign       41188 non-null  int64  \n",
      " 5   PosDays        41188 non-null  int64  \n",
      " 6   Last_out       41188 non-null  object \n",
      " 7   Var_rate       41188 non-null  float64\n",
      " 8   Price_idx      41188 non-null  float64\n",
      " 9   Conf_idx       41188 non-null  float64\n",
      " 10  Month_rate     41188 non-null  float64\n",
      " 11  Quarterly_emp  41188 non-null  float64\n",
      " 12  Target         41188 non-null  int64  \n",
      "dtypes: float64(5), int64(5), object(3)\n",
      "memory usage: 4.1+ MB\n",
      "None\n"
     ]
    },
    {
     "data": {
      "text/html": [
       "<div>\n",
       "<style scoped>\n",
       "    .dataframe tbody tr th:only-of-type {\n",
       "        vertical-align: middle;\n",
       "    }\n",
       "\n",
       "    .dataframe tbody tr th {\n",
       "        vertical-align: top;\n",
       "    }\n",
       "\n",
       "    .dataframe thead th {\n",
       "        text-align: right;\n",
       "    }\n",
       "</style>\n",
       "<table border=\"1\" class=\"dataframe\">\n",
       "  <thead>\n",
       "    <tr style=\"text-align: right;\">\n",
       "      <th></th>\n",
       "      <th>Age</th>\n",
       "      <th>Edu</th>\n",
       "      <th>Comm</th>\n",
       "      <th>Duration</th>\n",
       "      <th>Campaign</th>\n",
       "      <th>PosDays</th>\n",
       "      <th>Last_out</th>\n",
       "      <th>Var_rate</th>\n",
       "      <th>Price_idx</th>\n",
       "      <th>Conf_idx</th>\n",
       "      <th>Month_rate</th>\n",
       "      <th>Quarterly_emp</th>\n",
       "      <th>Target</th>\n",
       "    </tr>\n",
       "  </thead>\n",
       "  <tbody>\n",
       "    <tr>\n",
       "      <th>0</th>\n",
       "      <td>44</td>\n",
       "      <td>basic.4y</td>\n",
       "      <td>cellular</td>\n",
       "      <td>210</td>\n",
       "      <td>1</td>\n",
       "      <td>999</td>\n",
       "      <td>nonexistent</td>\n",
       "      <td>1.4</td>\n",
       "      <td>93.444</td>\n",
       "      <td>-36.1</td>\n",
       "      <td>4.963</td>\n",
       "      <td>5228.1</td>\n",
       "      <td>0</td>\n",
       "    </tr>\n",
       "    <tr>\n",
       "      <th>1</th>\n",
       "      <td>53</td>\n",
       "      <td>unknown</td>\n",
       "      <td>cellular</td>\n",
       "      <td>138</td>\n",
       "      <td>1</td>\n",
       "      <td>999</td>\n",
       "      <td>nonexistent</td>\n",
       "      <td>-0.1</td>\n",
       "      <td>93.200</td>\n",
       "      <td>-42.0</td>\n",
       "      <td>4.021</td>\n",
       "      <td>5195.8</td>\n",
       "      <td>0</td>\n",
       "    </tr>\n",
       "    <tr>\n",
       "      <th>2</th>\n",
       "      <td>28</td>\n",
       "      <td>university.degree</td>\n",
       "      <td>cellular</td>\n",
       "      <td>339</td>\n",
       "      <td>3</td>\n",
       "      <td>6</td>\n",
       "      <td>success</td>\n",
       "      <td>-1.7</td>\n",
       "      <td>94.055</td>\n",
       "      <td>-39.8</td>\n",
       "      <td>0.729</td>\n",
       "      <td>4991.6</td>\n",
       "      <td>1</td>\n",
       "    </tr>\n",
       "    <tr>\n",
       "      <th>3</th>\n",
       "      <td>39</td>\n",
       "      <td>high.school</td>\n",
       "      <td>cellular</td>\n",
       "      <td>185</td>\n",
       "      <td>2</td>\n",
       "      <td>999</td>\n",
       "      <td>nonexistent</td>\n",
       "      <td>-1.8</td>\n",
       "      <td>93.075</td>\n",
       "      <td>-47.1</td>\n",
       "      <td>1.405</td>\n",
       "      <td>5099.1</td>\n",
       "      <td>0</td>\n",
       "    </tr>\n",
       "    <tr>\n",
       "      <th>4</th>\n",
       "      <td>55</td>\n",
       "      <td>basic.4y</td>\n",
       "      <td>cellular</td>\n",
       "      <td>137</td>\n",
       "      <td>1</td>\n",
       "      <td>3</td>\n",
       "      <td>success</td>\n",
       "      <td>-2.9</td>\n",
       "      <td>92.201</td>\n",
       "      <td>-31.4</td>\n",
       "      <td>0.869</td>\n",
       "      <td>5076.2</td>\n",
       "      <td>1</td>\n",
       "    </tr>\n",
       "  </tbody>\n",
       "</table>\n",
       "</div>"
      ],
      "text/plain": [
       "   Age                Edu      Comm  Duration  Campaign  PosDays     Last_out  \\\n",
       "0   44           basic.4y  cellular       210         1      999  nonexistent   \n",
       "1   53            unknown  cellular       138         1      999  nonexistent   \n",
       "2   28  university.degree  cellular       339         3        6      success   \n",
       "3   39        high.school  cellular       185         2      999  nonexistent   \n",
       "4   55           basic.4y  cellular       137         1        3      success   \n",
       "\n",
       "   Var_rate  Price_idx  Conf_idx  Month_rate  Quarterly_emp  Target  \n",
       "0       1.4     93.444     -36.1       4.963         5228.1       0  \n",
       "1      -0.1     93.200     -42.0       4.021         5195.8       0  \n",
       "2      -1.7     94.055     -39.8       0.729         4991.6       1  \n",
       "3      -1.8     93.075     -47.1       1.405         5099.1       0  \n",
       "4      -2.9     92.201     -31.4       0.869         5076.2       1  "
      ]
     },
     "execution_count": 18,
     "metadata": {},
     "output_type": "execute_result"
    }
   ],
   "source": [
    "# Read csv file\n",
    "df = pd.read_csv('customer_data.csv')\n",
    "\n",
    "# Print the output\n",
    "print(df.info())\n",
    "df.head()"
   ]
  },
  {
   "cell_type": "markdown",
   "id": "90c0ab90",
   "metadata": {},
   "source": [
    "**Assumptions met so far:**\n",
    "\n",
    "- **Assumption 1:** A binary dependant variable (Target)\n",
    "- **Assumption 2:** Factor level 1 of dependant variable (y) represents the desired outcome\n",
    "- **Assumption 6:** Data set is large enough to address business questions"
   ]
  },
  {
   "cell_type": "markdown",
   "id": "11961fd7",
   "metadata": {},
   "source": [
    "## 1.1 Checking for meaningful variables : Assumption 3"
   ]
  },
  {
   "cell_type": "code",
   "execution_count": 19,
   "id": "22914486",
   "metadata": {},
   "outputs": [
    {
     "data": {
      "text/plain": [
       "university.degree      12168\n",
       "high.school             9515\n",
       "basic.9y                6045\n",
       "professional.course     5243\n",
       "basic.4y                4176\n",
       "basic.6y                2292\n",
       "unknown                 1731\n",
       "illiterate                18\n",
       "Name: Edu, dtype: int64"
      ]
     },
     "execution_count": 19,
     "metadata": {},
     "output_type": "execute_result"
    }
   ],
   "source": [
    "# Prepare the data\n",
    "# Check for non-numeric columns (Edu, Comm and Last_out)\n",
    "\n",
    "# Determine unique values\n",
    "df['Edu'].value_counts()"
   ]
  },
  {
   "cell_type": "code",
   "execution_count": 20,
   "id": "d8f1fbc4",
   "metadata": {},
   "outputs": [
    {
     "data": {
      "text/plain": [
       "array(['pre-school', 'other', 'uni', 'high-school', 'masters'],\n",
       "      dtype=object)"
      ]
     },
     "execution_count": 20,
     "metadata": {},
     "output_type": "execute_result"
    }
   ],
   "source": [
    "# Update 'Edu' column by removing full stops\n",
    "# Create list with initial values\n",
    "intial_vals = ['illiterate', 'unknown', 'basic',\n",
    "               'high', 'university', 'professional']\n",
    "\n",
    "# Create list with new values\n",
    "new_vals = ['other', 'other', 'pre-school',\n",
    "            'high-school', 'uni', 'masters']\n",
    "\n",
    "# Create a for loop to replace the values\n",
    "for old_val, new_val in zip(intial_vals, new_vals):\n",
    "    df.loc[df['Edu'].str.contains(old_val),'Edu' ] = new_val\n",
    "\n",
    "# Display unique values to check changes\n",
    "df['Edu'].unique() "
   ]
  },
  {
   "cell_type": "code",
   "execution_count": 21,
   "id": "346414f5",
   "metadata": {},
   "outputs": [
    {
     "data": {
      "text/plain": [
       "pre-school     12513\n",
       "uni            12168\n",
       "high-school     9515\n",
       "masters         5243\n",
       "other           1749\n",
       "Name: Edu, dtype: int64"
      ]
     },
     "execution_count": 21,
     "metadata": {},
     "output_type": "execute_result"
    }
   ],
   "source": [
    "# Determine values of 'Edu' column\n",
    "df['Edu'].value_counts()"
   ]
  },
  {
   "cell_type": "code",
   "execution_count": 22,
   "id": "7c247752",
   "metadata": {},
   "outputs": [
    {
     "data": {
      "text/html": [
       "<div>\n",
       "<style scoped>\n",
       "    .dataframe tbody tr th:only-of-type {\n",
       "        vertical-align: middle;\n",
       "    }\n",
       "\n",
       "    .dataframe tbody tr th {\n",
       "        vertical-align: top;\n",
       "    }\n",
       "\n",
       "    .dataframe thead th {\n",
       "        text-align: right;\n",
       "    }\n",
       "</style>\n",
       "<table border=\"1\" class=\"dataframe\">\n",
       "  <thead>\n",
       "    <tr style=\"text-align: right;\">\n",
       "      <th></th>\n",
       "      <th>Age</th>\n",
       "      <th>Edu</th>\n",
       "      <th>Comm</th>\n",
       "      <th>Duration</th>\n",
       "      <th>Campaign</th>\n",
       "      <th>PosDays</th>\n",
       "      <th>Last_out</th>\n",
       "      <th>Var_rate</th>\n",
       "      <th>Price_idx</th>\n",
       "      <th>Conf_idx</th>\n",
       "      <th>Month_rate</th>\n",
       "      <th>Quarterly_emp</th>\n",
       "      <th>Target</th>\n",
       "    </tr>\n",
       "  </thead>\n",
       "  <tbody>\n",
       "    <tr>\n",
       "      <th>0</th>\n",
       "      <td>44</td>\n",
       "      <td>3</td>\n",
       "      <td>cellular</td>\n",
       "      <td>210</td>\n",
       "      <td>1</td>\n",
       "      <td>999</td>\n",
       "      <td>nonexistent</td>\n",
       "      <td>1.4</td>\n",
       "      <td>93.444</td>\n",
       "      <td>-36.1</td>\n",
       "      <td>4.963</td>\n",
       "      <td>5228.1</td>\n",
       "      <td>0</td>\n",
       "    </tr>\n",
       "    <tr>\n",
       "      <th>1</th>\n",
       "      <td>53</td>\n",
       "      <td>2</td>\n",
       "      <td>cellular</td>\n",
       "      <td>138</td>\n",
       "      <td>1</td>\n",
       "      <td>999</td>\n",
       "      <td>nonexistent</td>\n",
       "      <td>-0.1</td>\n",
       "      <td>93.200</td>\n",
       "      <td>-42.0</td>\n",
       "      <td>4.021</td>\n",
       "      <td>5195.8</td>\n",
       "      <td>0</td>\n",
       "    </tr>\n",
       "    <tr>\n",
       "      <th>2</th>\n",
       "      <td>28</td>\n",
       "      <td>4</td>\n",
       "      <td>cellular</td>\n",
       "      <td>339</td>\n",
       "      <td>3</td>\n",
       "      <td>6</td>\n",
       "      <td>success</td>\n",
       "      <td>-1.7</td>\n",
       "      <td>94.055</td>\n",
       "      <td>-39.8</td>\n",
       "      <td>0.729</td>\n",
       "      <td>4991.6</td>\n",
       "      <td>1</td>\n",
       "    </tr>\n",
       "    <tr>\n",
       "      <th>3</th>\n",
       "      <td>39</td>\n",
       "      <td>0</td>\n",
       "      <td>cellular</td>\n",
       "      <td>185</td>\n",
       "      <td>2</td>\n",
       "      <td>999</td>\n",
       "      <td>nonexistent</td>\n",
       "      <td>-1.8</td>\n",
       "      <td>93.075</td>\n",
       "      <td>-47.1</td>\n",
       "      <td>1.405</td>\n",
       "      <td>5099.1</td>\n",
       "      <td>0</td>\n",
       "    </tr>\n",
       "    <tr>\n",
       "      <th>4</th>\n",
       "      <td>55</td>\n",
       "      <td>3</td>\n",
       "      <td>cellular</td>\n",
       "      <td>137</td>\n",
       "      <td>1</td>\n",
       "      <td>3</td>\n",
       "      <td>success</td>\n",
       "      <td>-2.9</td>\n",
       "      <td>92.201</td>\n",
       "      <td>-31.4</td>\n",
       "      <td>0.869</td>\n",
       "      <td>5076.2</td>\n",
       "      <td>1</td>\n",
       "    </tr>\n",
       "  </tbody>\n",
       "</table>\n",
       "</div>"
      ],
      "text/plain": [
       "   Age  Edu      Comm  Duration  Campaign  PosDays     Last_out  Var_rate  \\\n",
       "0   44    3  cellular       210         1      999  nonexistent       1.4   \n",
       "1   53    2  cellular       138         1      999  nonexistent      -0.1   \n",
       "2   28    4  cellular       339         3        6      success      -1.7   \n",
       "3   39    0  cellular       185         2      999  nonexistent      -1.8   \n",
       "4   55    3  cellular       137         1        3      success      -2.9   \n",
       "\n",
       "   Price_idx  Conf_idx  Month_rate  Quarterly_emp  Target  \n",
       "0     93.444     -36.1       4.963         5228.1       0  \n",
       "1     93.200     -42.0       4.021         5195.8       0  \n",
       "2     94.055     -39.8       0.729         4991.6       1  \n",
       "3     93.075     -47.1       1.405         5099.1       0  \n",
       "4     92.201     -31.4       0.869         5076.2       1  "
      ]
     },
     "execution_count": 22,
     "metadata": {},
     "output_type": "execute_result"
    }
   ],
   "source": [
    "# Convert strings to numerical to ease data analysis using Label Encoder\n",
    "# Import necessary libraries, packages and modules\n",
    "from sklearn.preprocessing import LabelEncoder\n",
    "\n",
    "# Create a class and write a user-defined function.\n",
    "class MyLabelEncoder(LabelEncoder):\n",
    "    def fit(self, y):\n",
    "        # Ensure y is a pandas Series or convert it to one\n",
    "        if not isinstance(y, pd.Series):\n",
    "            y = pd.Series(y)\n",
    "        \n",
    "        # Fit the label encoder\n",
    "        super().fit(y)\n",
    "        \n",
    "        # Return self\n",
    "        return self\n",
    "    \n",
    "# Order lists of the values for the Edu column.\n",
    "Edu_order = ['other', 'pre-school', 'high-school', 'uni', 'masters']\n",
    "\n",
    "# Create an instance of MyLabelEncoder.\n",
    "le = MyLabelEncoder()\n",
    "\n",
    "# Fit the encoder with the ordered values.\n",
    "le.fit(Edu_order)\n",
    "\n",
    "# Apply the LabelEncoder to the Edu column in the DataFrame.\n",
    "df['Edu'] = df['Edu'].apply(lambda x: x if x in Edu_order else 'other')\n",
    "df['Edu'] = le.transform(df['Edu'])\n",
    "\n",
    "# View the DataFrame to check\n",
    "df.head()"
   ]
  },
  {
   "cell_type": "code",
   "execution_count": 23,
   "id": "8ad244e2",
   "metadata": {},
   "outputs": [
    {
     "data": {
      "text/html": [
       "<div>\n",
       "<style scoped>\n",
       "    .dataframe tbody tr th:only-of-type {\n",
       "        vertical-align: middle;\n",
       "    }\n",
       "\n",
       "    .dataframe tbody tr th {\n",
       "        vertical-align: top;\n",
       "    }\n",
       "\n",
       "    .dataframe thead th {\n",
       "        text-align: right;\n",
       "    }\n",
       "</style>\n",
       "<table border=\"1\" class=\"dataframe\">\n",
       "  <thead>\n",
       "    <tr style=\"text-align: right;\">\n",
       "      <th></th>\n",
       "      <th>Age</th>\n",
       "      <th>Edu</th>\n",
       "      <th>Duration</th>\n",
       "      <th>Campaign</th>\n",
       "      <th>PosDays</th>\n",
       "      <th>Var_rate</th>\n",
       "      <th>Price_idx</th>\n",
       "      <th>Conf_idx</th>\n",
       "      <th>Month_rate</th>\n",
       "      <th>Quarterly_emp</th>\n",
       "      <th>Target</th>\n",
       "      <th>Comm_telephone</th>\n",
       "      <th>Last_out_nonexistent</th>\n",
       "      <th>Last_out_success</th>\n",
       "    </tr>\n",
       "  </thead>\n",
       "  <tbody>\n",
       "    <tr>\n",
       "      <th>0</th>\n",
       "      <td>44</td>\n",
       "      <td>3</td>\n",
       "      <td>210</td>\n",
       "      <td>1</td>\n",
       "      <td>999</td>\n",
       "      <td>1.4</td>\n",
       "      <td>93.444</td>\n",
       "      <td>-36.1</td>\n",
       "      <td>4.963</td>\n",
       "      <td>5228.1</td>\n",
       "      <td>0</td>\n",
       "      <td>0</td>\n",
       "      <td>1</td>\n",
       "      <td>0</td>\n",
       "    </tr>\n",
       "    <tr>\n",
       "      <th>1</th>\n",
       "      <td>53</td>\n",
       "      <td>2</td>\n",
       "      <td>138</td>\n",
       "      <td>1</td>\n",
       "      <td>999</td>\n",
       "      <td>-0.1</td>\n",
       "      <td>93.200</td>\n",
       "      <td>-42.0</td>\n",
       "      <td>4.021</td>\n",
       "      <td>5195.8</td>\n",
       "      <td>0</td>\n",
       "      <td>0</td>\n",
       "      <td>1</td>\n",
       "      <td>0</td>\n",
       "    </tr>\n",
       "    <tr>\n",
       "      <th>2</th>\n",
       "      <td>28</td>\n",
       "      <td>4</td>\n",
       "      <td>339</td>\n",
       "      <td>3</td>\n",
       "      <td>6</td>\n",
       "      <td>-1.7</td>\n",
       "      <td>94.055</td>\n",
       "      <td>-39.8</td>\n",
       "      <td>0.729</td>\n",
       "      <td>4991.6</td>\n",
       "      <td>1</td>\n",
       "      <td>0</td>\n",
       "      <td>0</td>\n",
       "      <td>1</td>\n",
       "    </tr>\n",
       "    <tr>\n",
       "      <th>3</th>\n",
       "      <td>39</td>\n",
       "      <td>0</td>\n",
       "      <td>185</td>\n",
       "      <td>2</td>\n",
       "      <td>999</td>\n",
       "      <td>-1.8</td>\n",
       "      <td>93.075</td>\n",
       "      <td>-47.1</td>\n",
       "      <td>1.405</td>\n",
       "      <td>5099.1</td>\n",
       "      <td>0</td>\n",
       "      <td>0</td>\n",
       "      <td>1</td>\n",
       "      <td>0</td>\n",
       "    </tr>\n",
       "    <tr>\n",
       "      <th>4</th>\n",
       "      <td>55</td>\n",
       "      <td>3</td>\n",
       "      <td>137</td>\n",
       "      <td>1</td>\n",
       "      <td>3</td>\n",
       "      <td>-2.9</td>\n",
       "      <td>92.201</td>\n",
       "      <td>-31.4</td>\n",
       "      <td>0.869</td>\n",
       "      <td>5076.2</td>\n",
       "      <td>1</td>\n",
       "      <td>0</td>\n",
       "      <td>0</td>\n",
       "      <td>1</td>\n",
       "    </tr>\n",
       "  </tbody>\n",
       "</table>\n",
       "</div>"
      ],
      "text/plain": [
       "   Age  Edu  Duration  Campaign  PosDays  Var_rate  Price_idx  Conf_idx  \\\n",
       "0   44    3       210         1      999       1.4     93.444     -36.1   \n",
       "1   53    2       138         1      999      -0.1     93.200     -42.0   \n",
       "2   28    4       339         3        6      -1.7     94.055     -39.8   \n",
       "3   39    0       185         2      999      -1.8     93.075     -47.1   \n",
       "4   55    3       137         1        3      -2.9     92.201     -31.4   \n",
       "\n",
       "   Month_rate  Quarterly_emp  Target  Comm_telephone  Last_out_nonexistent  \\\n",
       "0       4.963         5228.1       0               0                     1   \n",
       "1       4.021         5195.8       0               0                     1   \n",
       "2       0.729         4991.6       1               0                     0   \n",
       "3       1.405         5099.1       0               0                     1   \n",
       "4       0.869         5076.2       1               0                     0   \n",
       "\n",
       "   Last_out_success  \n",
       "0                 0  \n",
       "1                 0  \n",
       "2                 1  \n",
       "3                 0  \n",
       "4                 1  "
      ]
     },
     "execution_count": 23,
     "metadata": {},
     "output_type": "execute_result"
    }
   ],
   "source": [
    "# Convert strings to dummy variables for 'Comm' and 'Last_out'\n",
    "\n",
    "# Create dummy variables for 'Comm' column\n",
    "comm_dummies = pd.get_dummies(df['Comm'], prefix='Comm', drop_first = True)\n",
    "df = pd.concat([df, comm_dummies.astype(int)], axis=1)\n",
    "\n",
    "# Create dummy variables for 'Last_out' column\n",
    "last_out_dummies = pd.get_dummies(df['Last_out'], prefix='Last_out', drop_first = True)\n",
    "\n",
    "# Join the new columns to the DataFrame.\n",
    "df = pd.concat([df, last_out_dummies.astype(int)], axis=1)\n",
    "\n",
    "# Drop the original string columns\n",
    "df.drop(['Comm', 'Last_out'], axis=1, inplace=True)\n",
    "\n",
    "# View dataframe to check for changes\n",
    "df.head()"
   ]
  },
  {
   "cell_type": "markdown",
   "id": "46abc922",
   "metadata": {},
   "source": [
    "**Assumptions met so far:**\n",
    "\n",
    "- **Assumption 1:** A binary dependant variable (Target)\n",
    "- **Assumption 2:** Factor level 1 of dependant variable (y) represents the desired outcome\n",
    "- **Assumption 3:** Only meaningful variables needed for data analysis\n",
    "- **Assumption 6:** Data set is large enough to address business questions"
   ]
  },
  {
   "cell_type": "markdown",
   "id": "2057e26c",
   "metadata": {},
   "source": [
    "## 1.2 Eliminating multicollinearity: Assumption 4"
   ]
  },
  {
   "cell_type": "code",
   "execution_count": 26,
   "id": "d732f4d9",
   "metadata": {},
   "outputs": [
    {
     "data": {
      "text/html": [
       "<div>\n",
       "<style scoped>\n",
       "    .dataframe tbody tr th:only-of-type {\n",
       "        vertical-align: middle;\n",
       "    }\n",
       "\n",
       "    .dataframe tbody tr th {\n",
       "        vertical-align: top;\n",
       "    }\n",
       "\n",
       "    .dataframe thead th {\n",
       "        text-align: right;\n",
       "    }\n",
       "</style>\n",
       "<table border=\"1\" class=\"dataframe\">\n",
       "  <thead>\n",
       "    <tr style=\"text-align: right;\">\n",
       "      <th></th>\n",
       "      <th>feature</th>\n",
       "      <th>VIF</th>\n",
       "    </tr>\n",
       "  </thead>\n",
       "  <tbody>\n",
       "    <tr>\n",
       "      <th>3</th>\n",
       "      <td>Campaign</td>\n",
       "      <td>1.926491</td>\n",
       "    </tr>\n",
       "    <tr>\n",
       "      <th>2</th>\n",
       "      <td>Duration</td>\n",
       "      <td>2.014275</td>\n",
       "    </tr>\n",
       "    <tr>\n",
       "      <th>10</th>\n",
       "      <td>Comm_telephone</td>\n",
       "      <td>2.664511</td>\n",
       "    </tr>\n",
       "    <tr>\n",
       "      <th>1</th>\n",
       "      <td>Edu</td>\n",
       "      <td>3.198944</td>\n",
       "    </tr>\n",
       "    <tr>\n",
       "      <th>12</th>\n",
       "      <td>Last_out_success</td>\n",
       "      <td>10.765769</td>\n",
       "    </tr>\n",
       "    <tr>\n",
       "      <th>11</th>\n",
       "      <td>Last_out_nonexistent</td>\n",
       "      <td>11.735401</td>\n",
       "    </tr>\n",
       "    <tr>\n",
       "      <th>0</th>\n",
       "      <td>Age</td>\n",
       "      <td>16.110137</td>\n",
       "    </tr>\n",
       "    <tr>\n",
       "      <th>5</th>\n",
       "      <td>Var_rate</td>\n",
       "      <td>30.488870</td>\n",
       "    </tr>\n",
       "    <tr>\n",
       "      <th>7</th>\n",
       "      <td>Conf_idx</td>\n",
       "      <td>120.605000</td>\n",
       "    </tr>\n",
       "    <tr>\n",
       "      <th>8</th>\n",
       "      <td>Month_rate</td>\n",
       "      <td>260.101019</td>\n",
       "    </tr>\n",
       "    <tr>\n",
       "      <th>4</th>\n",
       "      <td>PosDays</td>\n",
       "      <td>301.077171</td>\n",
       "    </tr>\n",
       "    <tr>\n",
       "      <th>6</th>\n",
       "      <td>Price_idx</td>\n",
       "      <td>30621.336483</td>\n",
       "    </tr>\n",
       "    <tr>\n",
       "      <th>9</th>\n",
       "      <td>Quarterly_emp</td>\n",
       "      <td>36031.282920</td>\n",
       "    </tr>\n",
       "  </tbody>\n",
       "</table>\n",
       "</div>"
      ],
      "text/plain": [
       "                 feature           VIF\n",
       "3               Campaign      1.926491\n",
       "2               Duration      2.014275\n",
       "10        Comm_telephone      2.664511\n",
       "1                    Edu      3.198944\n",
       "12      Last_out_success     10.765769\n",
       "11  Last_out_nonexistent     11.735401\n",
       "0                    Age     16.110137\n",
       "5               Var_rate     30.488870\n",
       "7               Conf_idx    120.605000\n",
       "8             Month_rate    260.101019\n",
       "4                PosDays    301.077171\n",
       "6              Price_idx  30621.336483\n",
       "9          Quarterly_emp  36031.282920"
      ]
     },
     "execution_count": 26,
     "metadata": {},
     "output_type": "execute_result"
    }
   ],
   "source": [
    "# Apply Variance Inflation Factor (VIF)\n",
    "\n",
    "# Import required packages\n",
    "from statsmodels.stats.outliers_influence import variance_inflation_factor\n",
    "\n",
    "# Set independant and dependant variables\n",
    "X = df.drop('Target', axis = 1)\n",
    "y = df['Target']\n",
    "\n",
    "# Create a dataframe for the VIF output\n",
    "vif_data = pd.DataFrame()\n",
    "vif_data['feature'] = X.columns\n",
    "\n",
    "# Calculate VIF for each feature\n",
    "vif_data['VIF'] = [variance_inflation_factor(X.values, i)\\\n",
    "                   for i in range(len(X.columns))]\n",
    "\n",
    "# View the dataframe\n",
    "vif_data.sort_values('VIF', ascending = True)"
   ]
  },
  {
   "cell_type": "markdown",
   "id": "62c1b8d4",
   "metadata": {},
   "source": [
    "Values on Campaign, Duration, Comm_telephone and Edu are less than 5 therefore there no correlation between these independant variables and other columns need to be eliminated"
   ]
  },
  {
   "cell_type": "code",
   "execution_count": 27,
   "id": "60946283",
   "metadata": {},
   "outputs": [
    {
     "name": "stdout",
     "output_type": "stream",
     "text": [
      "(41188, 4)\n"
     ]
    },
    {
     "data": {
      "text/html": [
       "<div>\n",
       "<style scoped>\n",
       "    .dataframe tbody tr th:only-of-type {\n",
       "        vertical-align: middle;\n",
       "    }\n",
       "\n",
       "    .dataframe tbody tr th {\n",
       "        vertical-align: top;\n",
       "    }\n",
       "\n",
       "    .dataframe thead th {\n",
       "        text-align: right;\n",
       "    }\n",
       "</style>\n",
       "<table border=\"1\" class=\"dataframe\">\n",
       "  <thead>\n",
       "    <tr style=\"text-align: right;\">\n",
       "      <th></th>\n",
       "      <th>Edu</th>\n",
       "      <th>Duration</th>\n",
       "      <th>Campaign</th>\n",
       "      <th>Comm_telephone</th>\n",
       "    </tr>\n",
       "  </thead>\n",
       "  <tbody>\n",
       "    <tr>\n",
       "      <th>0</th>\n",
       "      <td>3</td>\n",
       "      <td>210</td>\n",
       "      <td>1</td>\n",
       "      <td>0</td>\n",
       "    </tr>\n",
       "    <tr>\n",
       "      <th>1</th>\n",
       "      <td>2</td>\n",
       "      <td>138</td>\n",
       "      <td>1</td>\n",
       "      <td>0</td>\n",
       "    </tr>\n",
       "    <tr>\n",
       "      <th>2</th>\n",
       "      <td>4</td>\n",
       "      <td>339</td>\n",
       "      <td>3</td>\n",
       "      <td>0</td>\n",
       "    </tr>\n",
       "    <tr>\n",
       "      <th>3</th>\n",
       "      <td>0</td>\n",
       "      <td>185</td>\n",
       "      <td>2</td>\n",
       "      <td>0</td>\n",
       "    </tr>\n",
       "    <tr>\n",
       "      <th>4</th>\n",
       "      <td>3</td>\n",
       "      <td>137</td>\n",
       "      <td>1</td>\n",
       "      <td>0</td>\n",
       "    </tr>\n",
       "  </tbody>\n",
       "</table>\n",
       "</div>"
      ],
      "text/plain": [
       "   Edu  Duration  Campaign  Comm_telephone\n",
       "0    3       210         1               0\n",
       "1    2       138         1               0\n",
       "2    4       339         3               0\n",
       "3    0       185         2               0\n",
       "4    3       137         1               0"
      ]
     },
     "execution_count": 27,
     "metadata": {},
     "output_type": "execute_result"
    }
   ],
   "source": [
    "# Drop columns with high VIF (>10)\n",
    "X = X.drop(['Last_out_success', 'Last_out_nonexistent', 'Age', 'Var_rate', \n",
    "            'PosDays', 'Conf_idx', 'Month_rate', 'Price_idx', 'Quarterly_emp'],\n",
    "          axis = 1)\n",
    "\n",
    "# View the dataframe\n",
    "print(X.shape)\n",
    "X.head()            "
   ]
  },
  {
   "cell_type": "code",
   "execution_count": 29,
   "id": "1d0ef0dc",
   "metadata": {},
   "outputs": [
    {
     "data": {
      "text/html": [
       "<div>\n",
       "<style scoped>\n",
       "    .dataframe tbody tr th:only-of-type {\n",
       "        vertical-align: middle;\n",
       "    }\n",
       "\n",
       "    .dataframe tbody tr th {\n",
       "        vertical-align: top;\n",
       "    }\n",
       "\n",
       "    .dataframe thead th {\n",
       "        text-align: right;\n",
       "    }\n",
       "</style>\n",
       "<table border=\"1\" class=\"dataframe\">\n",
       "  <thead>\n",
       "    <tr style=\"text-align: right;\">\n",
       "      <th></th>\n",
       "      <th>feature</th>\n",
       "      <th>VIF</th>\n",
       "    </tr>\n",
       "  </thead>\n",
       "  <tbody>\n",
       "    <tr>\n",
       "      <th>3</th>\n",
       "      <td>Comm_telephone</td>\n",
       "      <td>1.427620</td>\n",
       "    </tr>\n",
       "    <tr>\n",
       "      <th>2</th>\n",
       "      <td>Campaign</td>\n",
       "      <td>1.589627</td>\n",
       "    </tr>\n",
       "    <tr>\n",
       "      <th>1</th>\n",
       "      <td>Duration</td>\n",
       "      <td>1.591896</td>\n",
       "    </tr>\n",
       "    <tr>\n",
       "      <th>0</th>\n",
       "      <td>Edu</td>\n",
       "      <td>1.928111</td>\n",
       "    </tr>\n",
       "  </tbody>\n",
       "</table>\n",
       "</div>"
      ],
      "text/plain": [
       "          feature       VIF\n",
       "3  Comm_telephone  1.427620\n",
       "2        Campaign  1.589627\n",
       "1        Duration  1.591896\n",
       "0             Edu  1.928111"
      ]
     },
     "execution_count": 29,
     "metadata": {},
     "output_type": "execute_result"
    }
   ],
   "source": [
    "# Recalculate VIF\n",
    "vif_data2 = pd.DataFrame()\n",
    "vif_data2['feature'] = X.columns\n",
    "\n",
    "# Calculate VIF for each feature\n",
    "vif_data2['VIF'] = [variance_inflation_factor(X.values, i)\n",
    "                          for i in range(len(X.columns))]\n",
    "\n",
    "# View the dataframe in descending order\n",
    "vif_data2.sort_values('VIF',ascending=True)"
   ]
  },
  {
   "cell_type": "markdown",
   "id": "2f374618",
   "metadata": {},
   "source": [
    "## 1.3 Balance the data"
   ]
  },
  {
   "cell_type": "code",
   "execution_count": 30,
   "id": "a0a89a83",
   "metadata": {},
   "outputs": [
    {
     "data": {
      "text/plain": [
       "0    36548\n",
       "1     4640\n",
       "Name: Target, dtype: int64"
      ]
     },
     "execution_count": 30,
     "metadata": {},
     "output_type": "execute_result"
    }
   ],
   "source": [
    "# Determine whether values in a column are balanced.\n",
    "df['Target'].value_counts()"
   ]
  },
  {
   "cell_type": "code",
   "execution_count": 31,
   "id": "2dd7cc8a",
   "metadata": {},
   "outputs": [
    {
     "data": {
      "text/plain": [
       "Text(0.5, 1.0, 'Target Imbalance')"
      ]
     },
     "execution_count": 31,
     "metadata": {},
     "output_type": "execute_result"
    },
    {
     "data": {
      "image/png": "[encoded data removed]",
      "text/plain": [
       "<Figure size 640x480 with 1 Axes>"
      ]
     },
     "metadata": {},
     "output_type": "display_data"
    }
   ],
   "source": [
    "# Create a plot\n",
    "\n",
    "#Import Seaborn for visulisation\n",
    "import seaborn as sns\n",
    "\n",
    "sns.set_theme(style='darkgrid')\n",
    "ax = sns.countplot(x='Target', data=df)\n",
    "ax.set_title('Target Imbalance')"
   ]
  },
  {
   "cell_type": "markdown",
   "id": "97e01a2c",
   "metadata": {},
   "source": [
    "Data is not balanced"
   ]
  },
  {
   "cell_type": "code",
   "execution_count": 33,
   "id": "6bb79e16",
   "metadata": {
    "scrolled": true
   },
   "outputs": [
    {
     "name": "stdout",
     "output_type": "stream",
     "text": [
      "Requirement already satisfied: imblearn in ./anaconda3/lib/python3.10/site-packages (0.0)\n",
      "Requirement already satisfied: imbalanced-learn in ./anaconda3/lib/python3.10/site-packages (from imblearn) (0.10.1)\n",
      "Requirement already satisfied: scipy>=1.3.2 in ./anaconda3/lib/python3.10/site-packages (from imbalanced-learn->imblearn) (1.10.0)\n",
      "Requirement already satisfied: threadpoolctl>=2.0.0 in ./anaconda3/lib/python3.10/site-packages (from imbalanced-learn->imblearn) (2.2.0)\n",
      "Requirement already satisfied: numpy>=1.17.3 in ./anaconda3/lib/python3.10/site-packages (from imbalanced-learn->imblearn) (1.23.5)\n",
      "Requirement already satisfied: joblib>=1.1.1 in ./anaconda3/lib/python3.10/site-packages (from imbalanced-learn->imblearn) (1.1.1)\n",
      "Requirement already satisfied: scikit-learn>=1.0.2 in ./anaconda3/lib/python3.10/site-packages (from imbalanced-learn->imblearn) (1.2.1)\n",
      "Requirement already satisfied: scipy in ./anaconda3/lib/python3.10/site-packages (1.10.0)\n",
      "Requirement already satisfied: numpy<1.27.0,>=1.19.5 in ./anaconda3/lib/python3.10/site-packages (from scipy) (1.23.5)\n",
      "Requirement already satisfied: scikit-learn in ./anaconda3/lib/python3.10/site-packages (1.2.1)\n",
      "Requirement already satisfied: joblib>=1.1.1 in ./anaconda3/lib/python3.10/site-packages (from scikit-learn) (1.1.1)\n",
      "Requirement already satisfied: numpy>=1.17.3 in ./anaconda3/lib/python3.10/site-packages (from scikit-learn) (1.23.5)\n",
      "Requirement already satisfied: threadpoolctl>=2.0.0 in ./anaconda3/lib/python3.10/site-packages (from scikit-learn) (2.2.0)\n",
      "Requirement already satisfied: scipy>=1.3.2 in ./anaconda3/lib/python3.10/site-packages (from scikit-learn) (1.10.0)\n",
      "Requirement already satisfied: SMOTE in ./anaconda3/lib/python3.10/site-packages (0.1)\n",
      "Requirement already satisfied: scikit-learn>=0.19.1 in ./anaconda3/lib/python3.10/site-packages (from SMOTE) (1.2.1)\n",
      "Requirement already satisfied: numpy>=1.14.3 in ./anaconda3/lib/python3.10/site-packages (from SMOTE) (1.23.5)\n",
      "Requirement already satisfied: joblib>=1.1.1 in ./anaconda3/lib/python3.10/site-packages (from scikit-learn>=0.19.1->SMOTE) (1.1.1)\n",
      "Requirement already satisfied: scipy>=1.3.2 in ./anaconda3/lib/python3.10/site-packages (from scikit-learn>=0.19.1->SMOTE) (1.10.0)\n",
      "Requirement already satisfied: threadpoolctl>=2.0.0 in ./anaconda3/lib/python3.10/site-packages (from scikit-learn>=0.19.1->SMOTE) (2.2.0)\n",
      "Imported succesfully !\n"
     ]
    }
   ],
   "source": [
    "# Balance the dataset using SMOTE (Synthetic Minority Oversampling Technique)\n",
    "\n",
    "# Import required libraries\n",
    "# Handles unbalanced data (scikit-learn needed)\n",
    "!pip install imblearn  \n",
    "\n",
    "# Optimised linear, algebra, integrations (scientific)\n",
    "!pip install scipy  \n",
    "\n",
    "# Simple tools for predictive data analytics\n",
    "!pip install scikit-learn  \n",
    "\n",
    "# Oversampling technique; creates new samples from data\n",
    "!pip install SMOTE \n",
    "\n",
    "print(\"Imported succesfully !\")"
   ]
  },
  {
   "cell_type": "code",
   "execution_count": 34,
   "id": "44c22546",
   "metadata": {},
   "outputs": [
    {
     "name": "stdout",
     "output_type": "stream",
     "text": [
      "   Edu  Duration  Campaign  Comm_telephone\n",
      "0    3       162         1               0\n",
      "1    4        62         1               0\n",
      "2    4       353         1               0\n",
      "3    3       420         4               1\n",
      "4    1       212         2               1\n"
     ]
    },
    {
     "data": {
      "text/html": [
       "<div>\n",
       "<style scoped>\n",
       "    .dataframe tbody tr th:only-of-type {\n",
       "        vertical-align: middle;\n",
       "    }\n",
       "\n",
       "    .dataframe tbody tr th {\n",
       "        vertical-align: top;\n",
       "    }\n",
       "\n",
       "    .dataframe thead th {\n",
       "        text-align: right;\n",
       "    }\n",
       "</style>\n",
       "<table border=\"1\" class=\"dataframe\">\n",
       "  <thead>\n",
       "    <tr style=\"text-align: right;\">\n",
       "      <th></th>\n",
       "      <th>Target</th>\n",
       "    </tr>\n",
       "  </thead>\n",
       "  <tbody>\n",
       "    <tr>\n",
       "      <th>0</th>\n",
       "      <td>0</td>\n",
       "    </tr>\n",
       "    <tr>\n",
       "      <th>1</th>\n",
       "      <td>0</td>\n",
       "    </tr>\n",
       "    <tr>\n",
       "      <th>2</th>\n",
       "      <td>1</td>\n",
       "    </tr>\n",
       "    <tr>\n",
       "      <th>3</th>\n",
       "      <td>0</td>\n",
       "    </tr>\n",
       "    <tr>\n",
       "      <th>4</th>\n",
       "      <td>0</td>\n",
       "    </tr>\n",
       "  </tbody>\n",
       "</table>\n",
       "</div>"
      ],
      "text/plain": [
       "   Target\n",
       "0       0\n",
       "1       0\n",
       "2       1\n",
       "3       0\n",
       "4       0"
      ]
     },
     "execution_count": 34,
     "metadata": {},
     "output_type": "execute_result"
    }
   ],
   "source": [
    "# Import all the necessary packages:\n",
    "import statsmodels.api as sm   \n",
    "import imblearn\n",
    "from imblearn.over_sampling import SMOTE  \n",
    "from sklearn.model_selection import train_test_split \n",
    "\n",
    "# Apply SMOTE class as the target variable is not balanced.\n",
    "os = SMOTE(random_state=0)\n",
    "X_train, X_test, y_train, y_test = train_test_split(X, y, test_size=0.3, random_state=42)\n",
    "\n",
    "# Balance the training data.\n",
    "os_data_X, os_data_y = os.fit_resample(X_train, y_train)  \n",
    "\n",
    "# Create two DataFrames for X and one for y:\n",
    "os_data_X = pd.DataFrame(data = os_data_X, columns = X.columns) \n",
    "os_data_y = pd.DataFrame(data = os_data_y, columns = ['Target'])\n",
    "\n",
    "# View DataFrame.\n",
    "print(os_data_X.head())\n",
    "os_data_y.head()"
   ]
  },
  {
   "cell_type": "code",
   "execution_count": 35,
   "id": "6a3c1eef",
   "metadata": {},
   "outputs": [
    {
     "data": {
      "text/plain": [
       "0    25617\n",
       "1    25617\n",
       "Name: Target, dtype: int64"
      ]
     },
     "execution_count": 35,
     "metadata": {},
     "output_type": "execute_result"
    }
   ],
   "source": [
    "# Check if data set is balanced\n",
    "os_data_y['Target'].value_counts()"
   ]
  },
  {
   "cell_type": "code",
   "execution_count": 36,
   "id": "2d56fd6f",
   "metadata": {},
   "outputs": [
    {
     "data": {
      "text/plain": [
       "Text(0.5, 1.0, 'New Balanced Target')"
      ]
     },
     "execution_count": 36,
     "metadata": {},
     "output_type": "execute_result"
    },
    {
     "data": {
      "image/png": "[encoded data removed]",
      "text/plain": [
       "<Figure size 640x480 with 1 Axes>"
      ]
     },
     "metadata": {},
     "output_type": "display_data"
    }
   ],
   "source": [
    "# Visualise data\n",
    "sns.set_theme(style ='darkgrid')\n",
    "ax = sns.countplot(x ='Target', data = os_data_y)\n",
    "ax.set_title(\"New Balanced Target\")"
   ]
  },
  {
   "cell_type": "markdown",
   "id": "3f7764c8",
   "metadata": {},
   "source": [
    "**Assumptions met so far:**\n",
    "\n",
    "- **Assumption 1:** A binary dependant variable (Target)\n",
    "- **Assumption 2:** Factor level 1 of dependant variable (y) represents the desired outcome\n",
    "- **Assumption 3:** Only meaningful variables needed for data analysis\n",
    "- **Assumption 4:** Limit multicollinearity between independant variables (X)\n",
    "- **Assumption 6:** Data set is large enough to address business questions"
   ]
  },
  {
   "cell_type": "markdown",
   "id": "20c5234f",
   "metadata": {},
   "source": [
    "## 1.4 Checking if X's are linearly related to the log odds: Assumption 5"
   ]
  },
  {
   "cell_type": "code",
   "execution_count": 39,
   "id": "7fedfcde",
   "metadata": {},
   "outputs": [
    {
     "data": {
      "image/png": "[encoded data removed]",
      "text/plain": [
       "<Figure size 640x480 with 1 Axes>"
      ]
     },
     "metadata": {},
     "output_type": "display_data"
    }
   ],
   "source": [
    "# Visualise data to test linearity of continuous X variables (Duartion)\n",
    "\n",
    "# Look for S-shaped curve\n",
    "dur = sns.regplot(x = 'Duration',\n",
    "                  y= 'Target',\n",
    "                  data= df,\n",
    "                  logistic= True).set_title(\"Duration Log Odds Linear Plot\")"
   ]
  },
  {
   "cell_type": "markdown",
   "id": "1ce941d0",
   "metadata": {},
   "source": [
    "**All Assumptions are met!**\n",
    "\n",
    "- **Assumption 1:** A binary dependant variable (Target)\n",
    "- **Assumption 2:** Factor level 1 of dependant variable (y) represents the desired outcome\n",
    "- **Assumption 3:** Only meaningful variables needed for data analysis\n",
    "- **Assumption 4:** Limit multicollinearity between independant variables (X)\n",
    "- **Assumption 5:** X's are linearly related to the log odds\n",
    "- **Assumption 6:** Data set is large enough to address business questions"
   ]
  },
  {
   "cell_type": "markdown",
   "id": "fe85dd3f",
   "metadata": {},
   "source": [
    "## 2.0 Determine accuracy of the model"
   ]
  },
  {
   "cell_type": "code",
   "execution_count": 42,
   "id": "df813acb",
   "metadata": {},
   "outputs": [
    {
     "name": "stdout",
     "output_type": "stream",
     "text": [
      "Optimization terminated successfully.\n",
      "         Current function value: 0.448416\n",
      "         Iterations 7\n"
     ]
    },
    {
     "data": {
      "text/html": [
       "<table class=\"simpletable\">\n",
       "<caption>Logit Regression Results</caption>\n",
       "<tr>\n",
       "  <th>Dep. Variable:</th>        <td>Target</td>      <th>  No. Observations:  </th>  <td> 51234</td> \n",
       "</tr>\n",
       "<tr>\n",
       "  <th>Model:</th>                 <td>Logit</td>      <th>  Df Residuals:      </th>  <td> 51230</td> \n",
       "</tr>\n",
       "<tr>\n",
       "  <th>Method:</th>                 <td>MLE</td>       <th>  Df Model:          </th>  <td>     3</td> \n",
       "</tr>\n",
       "<tr>\n",
       "  <th>Date:</th>            <td>Mon, 04 Sep 2023</td> <th>  Pseudo R-squ.:     </th>  <td>0.3531</td> \n",
       "</tr>\n",
       "<tr>\n",
       "  <th>Time:</th>                <td>08:02:38</td>     <th>  Log-Likelihood:    </th> <td> -22974.</td>\n",
       "</tr>\n",
       "<tr>\n",
       "  <th>converged:</th>             <td>True</td>       <th>  LL-Null:           </th> <td> -35513.</td>\n",
       "</tr>\n",
       "<tr>\n",
       "  <th>Covariance Type:</th>     <td>nonrobust</td>    <th>  LLR p-value:       </th>  <td> 0.000</td> \n",
       "</tr>\n",
       "</table>\n",
       "<table class=\"simpletable\">\n",
       "<tr>\n",
       "         <td></td>           <th>coef</th>     <th>std err</th>      <th>z</th>      <th>P>|z|</th>  <th>[0.025</th>    <th>0.975]</th>  \n",
       "</tr>\n",
       "<tr>\n",
       "  <th>Edu</th>            <td>   -0.1053</td> <td>    0.006</td> <td>  -17.839</td> <td> 0.000</td> <td>   -0.117</td> <td>   -0.094</td>\n",
       "</tr>\n",
       "<tr>\n",
       "  <th>Duration</th>       <td>    0.0047</td> <td>  5.1e-05</td> <td>   92.606</td> <td> 0.000</td> <td>    0.005</td> <td>    0.005</td>\n",
       "</tr>\n",
       "<tr>\n",
       "  <th>Campaign</th>       <td>   -0.4356</td> <td>    0.008</td> <td>  -52.795</td> <td> 0.000</td> <td>   -0.452</td> <td>   -0.419</td>\n",
       "</tr>\n",
       "<tr>\n",
       "  <th>Comm_telephone</th> <td>   -2.7434</td> <td>    0.039</td> <td>  -70.600</td> <td> 0.000</td> <td>   -2.820</td> <td>   -2.667</td>\n",
       "</tr>\n",
       "</table>"
      ],
      "text/plain": [
       "<class 'statsmodels.iolib.summary.Summary'>\n",
       "\"\"\"\n",
       "                           Logit Regression Results                           \n",
       "==============================================================================\n",
       "Dep. Variable:                 Target   No. Observations:                51234\n",
       "Model:                          Logit   Df Residuals:                    51230\n",
       "Method:                           MLE   Df Model:                            3\n",
       "Date:                Mon, 04 Sep 2023   Pseudo R-squ.:                  0.3531\n",
       "Time:                        08:02:38   Log-Likelihood:                -22974.\n",
       "converged:                       True   LL-Null:                       -35513.\n",
       "Covariance Type:            nonrobust   LLR p-value:                     0.000\n",
       "==================================================================================\n",
       "                     coef    std err          z      P>|z|      [0.025      0.975]\n",
       "----------------------------------------------------------------------------------\n",
       "Edu               -0.1053      0.006    -17.839      0.000      -0.117      -0.094\n",
       "Duration           0.0047    5.1e-05     92.606      0.000       0.005       0.005\n",
       "Campaign          -0.4356      0.008    -52.795      0.000      -0.452      -0.419\n",
       "Comm_telephone    -2.7434      0.039    -70.600      0.000      -2.820      -2.667\n",
       "==================================================================================\n",
       "\"\"\""
      ]
     },
     "execution_count": 42,
     "metadata": {},
     "output_type": "execute_result"
    }
   ],
   "source": [
    "# Fit the model\n",
    "\n",
    "# Name a new column and specify columns for BLR\n",
    "nec_cols = os_data_X.columns\n",
    "\n",
    "# Set independant variables\n",
    "X = os_data_X[nec_cols]\n",
    "\n",
    "# Set the dependant variable\n",
    "y = os_data_y['Target']\n",
    "\n",
    "# Set the logit() to accept y and X as parameters, and return the logit object\n",
    "logit_model=sm.Logit(y, X)\n",
    "\n",
    "# Indicate result = logit_model.fit() function\n",
    "result = logit_model.fit()  \n",
    "\n",
    "# Print result\n",
    "result.summary()"
   ]
  },
  {
   "cell_type": "code",
   "execution_count": 43,
   "id": "0dfe4959",
   "metadata": {},
   "outputs": [
    {
     "data": {
      "text/html": [
       "<style>#sk-container-id-1 {color: black;background-color: white;}#sk-container-id-1 pre{padding: 0;}#sk-container-id-1 div.sk-toggleable {background-color: white;}#sk-container-id-1 label.sk-toggleable__label {cursor: pointer;display: block;width: 100%;margin-bottom: 0;padding: 0.3em;box-sizing: border-box;text-align: center;}#sk-container-id-1 label.sk-toggleable__label-arrow:before {content: \"▸\";float: left;margin-right: 0.25em;color: #696969;}#sk-container-id-1 label.sk-toggleable__label-arrow:hover:before {color: black;}#sk-container-id-1 div.sk-estimator:hover label.sk-toggleable__label-arrow:before {color: black;}#sk-container-id-1 div.sk-toggleable__content {max-height: 0;max-width: 0;overflow: hidden;text-align: left;background-color: #f0f8ff;}#sk-container-id-1 div.sk-toggleable__content pre {margin: 0.2em;color: black;border-radius: 0.25em;background-color: #f0f8ff;}#sk-container-id-1 input.sk-toggleable__control:checked~div.sk-toggleable__content {max-height: 200px;max-width: 100%;overflow: auto;}#sk-container-id-1 input.sk-toggleable__control:checked~label.sk-toggleable__label-arrow:before {content: \"▾\";}#sk-container-id-1 div.sk-estimator input.sk-toggleable__control:checked~label.sk-toggleable__label {background-color: #d4ebff;}#sk-container-id-1 div.sk-label input.sk-toggleable__control:checked~label.sk-toggleable__label {background-color: #d4ebff;}#sk-container-id-1 input.sk-hidden--visually {border: 0;clip: rect(1px 1px 1px 1px);clip: rect(1px, 1px, 1px, 1px);height: 1px;margin: -1px;overflow: hidden;padding: 0;position: absolute;width: 1px;}#sk-container-id-1 div.sk-estimator {font-family: monospace;background-color: #f0f8ff;border: 1px dotted black;border-radius: 0.25em;box-sizing: border-box;margin-bottom: 0.5em;}#sk-container-id-1 div.sk-estimator:hover {background-color: #d4ebff;}#sk-container-id-1 div.sk-parallel-item::after {content: \"\";width: 100%;border-bottom: 1px solid gray;flex-grow: 1;}#sk-container-id-1 div.sk-label:hover label.sk-toggleable__label {background-color: #d4ebff;}#sk-container-id-1 div.sk-serial::before {content: \"\";position: absolute;border-left: 1px solid gray;box-sizing: border-box;top: 0;bottom: 0;left: 50%;z-index: 0;}#sk-container-id-1 div.sk-serial {display: flex;flex-direction: column;align-items: center;background-color: white;padding-right: 0.2em;padding-left: 0.2em;position: relative;}#sk-container-id-1 div.sk-item {position: relative;z-index: 1;}#sk-container-id-1 div.sk-parallel {display: flex;align-items: stretch;justify-content: center;background-color: white;position: relative;}#sk-container-id-1 div.sk-item::before, #sk-container-id-1 div.sk-parallel-item::before {content: \"\";position: absolute;border-left: 1px solid gray;box-sizing: border-box;top: 0;bottom: 0;left: 50%;z-index: -1;}#sk-container-id-1 div.sk-parallel-item {display: flex;flex-direction: column;z-index: 1;position: relative;background-color: white;}#sk-container-id-1 div.sk-parallel-item:first-child::after {align-self: flex-end;width: 50%;}#sk-container-id-1 div.sk-parallel-item:last-child::after {align-self: flex-start;width: 50%;}#sk-container-id-1 div.sk-parallel-item:only-child::after {width: 0;}#sk-container-id-1 div.sk-dashed-wrapped {border: 1px dashed gray;margin: 0 0.4em 0.5em 0.4em;box-sizing: border-box;padding-bottom: 0.4em;background-color: white;}#sk-container-id-1 div.sk-label label {font-family: monospace;font-weight: bold;display: inline-block;line-height: 1.2em;}#sk-container-id-1 div.sk-label-container {text-align: center;}#sk-container-id-1 div.sk-container {/* jupyter's `normalize.less` sets `[hidden] { display: none; }` but bootstrap.min.css set `[hidden] { display: none !important; }` so we also need the `!important` here to be able to override the default hidden behavior on the sphinx rendered scikit-learn.org. See: https://github.com/scikit-learn/scikit-learn/issues/21755 */display: inline-block !important;position: relative;}#sk-container-id-1 div.sk-text-repr-fallback {display: none;}</style><div id=\"sk-container-id-1\" class=\"sk-top-container\"><div class=\"sk-text-repr-fallback\"><pre>LogisticRegression(max_iter=1000)</pre><b>In a Jupyter environment, please rerun this cell to show the HTML representation or trust the notebook. <br />On GitHub, the HTML representation is unable to render, please try loading this page with nbviewer.org.</b></div><div class=\"sk-container\" hidden><div class=\"sk-item\"><div class=\"sk-estimator sk-toggleable\"><input class=\"sk-toggleable__control sk-hidden--visually\" id=\"sk-estimator-id-1\" type=\"checkbox\" checked><label for=\"sk-estimator-id-1\" class=\"sk-toggleable__label sk-toggleable__label-arrow\">LogisticRegression</label><div class=\"sk-toggleable__content\"><pre>LogisticRegression(max_iter=1000)</pre></div></div></div></div></div>"
      ],
      "text/plain": [
       "LogisticRegression(max_iter=1000)"
      ]
     },
     "execution_count": 43,
     "metadata": {},
     "output_type": "execute_result"
    }
   ],
   "source": [
    "# Import the necessary packages\n",
    "from sklearn.linear_model import LogisticRegression\n",
    "from sklearn import metrics\n",
    "\n",
    "# Set LogisticRegression() to logreg\n",
    "logreg = LogisticRegression(max_iter=1000) \n",
    "\n",
    "# Fit the X_train and y_train data sets to logreg. \n",
    "logreg.fit(os_data_X, os_data_y.values.ravel()) "
   ]
  },
  {
   "cell_type": "code",
   "execution_count": 44,
   "id": "47340f92",
   "metadata": {},
   "outputs": [
    {
     "name": "stdout",
     "output_type": "stream",
     "text": [
      "Accuracy of logistic regression classifier on test set: 0.79\n"
     ]
    }
   ],
   "source": [
    "# Determine BLR model's accuracy.\n",
    "y_pred = logreg.predict(X_test)\n",
    "\n",
    "from sklearn.metrics import accuracy_score\n",
    "acc = accuracy_score(y_test, y_pred)\n",
    "print('Accuracy of logistic regression classifier on test set: {:.2f}'\\\n",
    "      .format(acc))"
   ]
  },
  {
   "cell_type": "markdown",
   "id": "7830f4ae",
   "metadata": {},
   "source": [
    "Accuracy of 79% is not a great fit for binary business questions, therefore further test accuracy using confusion matrix to evaluate accuracy of the classification"
   ]
  },
  {
   "cell_type": "markdown",
   "id": "a5fb7bdf",
   "metadata": {},
   "source": [
    "## 2.1 Confusion Matrix"
   ]
  },
  {
   "cell_type": "code",
   "execution_count": 45,
   "id": "2f732bb1",
   "metadata": {},
   "outputs": [
    {
     "data": {
      "text/plain": [
       "<Axes: >"
      ]
     },
     "execution_count": 45,
     "metadata": {},
     "output_type": "execute_result"
    },
    {
     "data": {
      "image/png": "[encoded data removed]",
      "text/plain": [
       "<Figure size 640x480 with 2 Axes>"
      ]
     },
     "metadata": {},
     "output_type": "display_data"
    }
   ],
   "source": [
    "#Create the confusion matrix to test classification accuracy in BLR\n",
    "\n",
    "# Import the necessary package\n",
    "from sklearn.metrics import confusion_matrix  \n",
    "\n",
    "# Indicate the confusion matrix needs to be created\n",
    "confusion_matrix = confusion_matrix(y_test, y_pred)  \n",
    "\n",
    "# Plot the confusion_matrix.\n",
    "sns.heatmap(confusion_matrix, annot=True, fmt='g')"
   ]
  },
  {
   "cell_type": "code",
   "execution_count": 46,
   "id": "8dce1677",
   "metadata": {},
   "outputs": [
    {
     "data": {
      "text/html": [
       "<div>\n",
       "<style scoped>\n",
       "    .dataframe tbody tr th:only-of-type {\n",
       "        vertical-align: middle;\n",
       "    }\n",
       "\n",
       "    .dataframe tbody tr th {\n",
       "        vertical-align: top;\n",
       "    }\n",
       "\n",
       "    .dataframe thead th {\n",
       "        text-align: right;\n",
       "    }\n",
       "</style>\n",
       "<table border=\"1\" class=\"dataframe\">\n",
       "  <thead>\n",
       "    <tr style=\"text-align: right;\">\n",
       "      <th></th>\n",
       "      <th>predicted_notchurn</th>\n",
       "      <th>predicted_churn</th>\n",
       "    </tr>\n",
       "  </thead>\n",
       "  <tbody>\n",
       "    <tr>\n",
       "      <th>observed_notchurn</th>\n",
       "      <td>8764</td>\n",
       "      <td>2167</td>\n",
       "    </tr>\n",
       "    <tr>\n",
       "      <th>observed_churn</th>\n",
       "      <td>464</td>\n",
       "      <td>962</td>\n",
       "    </tr>\n",
       "  </tbody>\n",
       "</table>\n",
       "</div>"
      ],
      "text/plain": [
       "                   predicted_notchurn  predicted_churn\n",
       "observed_notchurn                8764             2167\n",
       "observed_churn                    464              962"
      ]
     },
     "execution_count": 46,
     "metadata": {},
     "output_type": "execute_result"
    }
   ],
   "source": [
    "# Create a DataFrame to display the confusion matrix \n",
    "pd.DataFrame(confusion_matrix, index=['observed_notchurn','observed_churn'],\n",
    "columns=['predicted_notchurn', 'predicted_churn'])"
   ]
  },
  {
   "cell_type": "markdown",
   "id": "8e505128",
   "metadata": {},
   "source": [
    "## 3.0 Print the accuracy"
   ]
  },
  {
   "cell_type": "code",
   "execution_count": 47,
   "id": "aa52c0a5",
   "metadata": {},
   "outputs": [
    {
     "name": "stdout",
     "output_type": "stream",
     "text": [
      "              precision    recall  f1-score   support\n",
      "\n",
      "           0       0.95      0.80      0.87     10931\n",
      "           1       0.31      0.67      0.42      1426\n",
      "\n",
      "    accuracy                           0.79     12357\n",
      "   macro avg       0.63      0.74      0.65     12357\n",
      "weighted avg       0.88      0.79      0.82     12357\n",
      "\n"
     ]
    }
   ],
   "source": [
    "# Import the necessary package.\n",
    "from sklearn.metrics import classification_report  \n",
    "\n",
    "# Print a report on the model's accuracy.\n",
    "print(classification_report(y_test, y_pred)) "
   ]
  },
  {
   "cell_type": "markdown",
   "id": "bf9dc64a",
   "metadata": {},
   "source": [
    "## 4.0 Total number of churned customers"
   ]
  },
  {
   "cell_type": "code",
   "execution_count": 49,
   "id": "24cbe24a",
   "metadata": {},
   "outputs": [
    {
     "name": "stdout",
     "output_type": "stream",
     "text": [
      "Number of likely churn customers: 489\n"
     ]
    }
   ],
   "source": [
    "# Train a logistic regression model\n",
    "model = LogisticRegression()\n",
    "model.fit(X_train, y_train)\n",
    "\n",
    "# Make predictions on the test dataset\n",
    "predicted_probabilities = model.predict_proba(X_test)[:, 1]\n",
    "\n",
    "# Choose a threshold (e.g., 0.5) or determine it based on your business needs\n",
    "threshold = 0.5\n",
    "\n",
    "# Identify likely churn customers\n",
    "likely_churn_customers = X_test[predicted_probabilities > threshold]\n",
    "\n",
    "# Get the count of likely churn customers\n",
    "number_of_likely_churns = len(likely_churn_customers)\n",
    "\n",
    "print(f\"Number of likely churn customers: {number_of_likely_churns}\")"
   ]
  },
  {
   "cell_type": "code",
   "execution_count": 50,
   "id": "80229ceb",
   "metadata": {},
   "outputs": [
    {
     "name": "stdout",
     "output_type": "stream",
     "text": [
      "Total number of customers: 51234\n"
     ]
    }
   ],
   "source": [
    "total_number_of_customers = X.shape[0]\n",
    "\n",
    "print(f\"Total number of customers: {total_number_of_customers}\")"
   ]
  },
  {
   "cell_type": "code",
   "execution_count": 51,
   "id": "734485df",
   "metadata": {},
   "outputs": [
    {
     "name": "stdout",
     "output_type": "stream",
     "text": [
      "Percentage of Likely Churn Customers: 0.95%\n"
     ]
    }
   ],
   "source": [
    "percentage_of_likely_churn_customers = (number_of_likely_churns / total_number_of_customers) * 100\n",
    "\n",
    "print(f\"Percentage of Likely Churn Customers: {percentage_of_likely_churn_customers:.2f}%\")"
   ]
  },
  {
   "cell_type": "markdown",
   "id": "356105d1",
   "metadata": {},
   "source": [
    "## Conclusion:"
   ]
  },
  {
   "cell_type": "markdown",
   "id": "4960cad3",
   "metadata": {},
   "source": [
    "- Accuracy score of model is 79%\n",
    "- Percentage of likely to churn customers is 0.95% "
   ]
  },
  {
   "cell_type": "code",
   "execution_count": null,
   "id": "bdbe256f",
   "metadata": {},
   "outputs": [],
   "source": []
  }
 ],
 "metadata": {
  "kernelspec": {
   "display_name": "Python 3 (ipykernel)",
   "language": "python",
   "name": "python3"
  },
  "language_info": {
   "codemirror_mode": {
    "name": "ipython",
    "version": 3
   },
   "file_extension": ".py",
   "mimetype": "text/x-python",
   "name": "python",
   "nbconvert_exporter": "python",
   "pygments_lexer": "ipython3",
   "version": "3.10.9"
  }
 },
 "nbformat": 4,
 "nbformat_minor": 5
}
